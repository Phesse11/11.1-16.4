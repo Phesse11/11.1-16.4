{
 "cells": [
  {
   "cell_type": "code",
   "execution_count": 5,
   "id": "50fc1a50",
   "metadata": {},
   "outputs": [],
   "source": [
    "import csv\n",
    "\n",
    "with open('profiles1.csv', 'w', newline='') as file:\n",
    "    writer = csv.writer(file)    # \n",
    "    field = [\"title\", \"author\", \"year\"] # opens text file with the field title author and year \n",
    "    \n",
    "    writer.writerow(field)\n",
    "    writer.writerow([\"title,author,year\"])\n",
    "    writer.writerow([\"Perdido Street Station,China Miéville,2000\"])\n",
    "    writer.writerow([\"Thud!,Terry Pratchett,2005\"])\n",
    "    writer.writerow([\"TThe Spellman Files,Lisa Lutz,2007\"])\n",
    "    writer.writerow([\"Small Gods,Terry Pratchett,1992\"]) # methods it uses to print the files"
   ]
  },
  {
   "cell_type": "code",
   "execution_count": 6,
   "id": "b7939569",
   "metadata": {},
   "outputs": [],
   "source": [
    "import sqlite3\n",
    "\n",
    "\n",
    "def connect():\n",
    "    conn=sqlite3.connect(\"books.db\")\n",
    "    cur=conn.cursor()\n",
    "    cur.execute(\"Create table if book dosen't exist\")\n",
    "    conn.commit()\n",
    "    conn.close() # creates a table with books doesn't exist \n",
    "def insert(title,author,year,isbn):\n",
    "    conn = sqlite3.connect(\"books.db\")\n",
    "    cur=conn.cursor()\n",
    "    cur.execute(\"type in your book (NULL,?,?,?,?)\",(title,author,year,isbn))\n",
    "    conn.commit()\n",
    "    conn.close()  # where the user types in the book they want to use \n",
    "def view():\n",
    "    conn = sqlite3.connect(\"books.db\")\n",
    "    cur = conn.cursor()\n",
    "    cur.execute(\"find your book\")\n",
    "    rows=cur.fetchall()\n",
    "    return rows   # finds a book and creates rows of book names \n",
    "    conn.close()\n",
    "def search(title=\"\",author=\"\",year=\"\",isbn=\"\"):\n",
    "    conn = sqlite3.connect(\"books.db\")\n",
    "    cur = conn.cursor()\n",
    "    cur.execute(\"Search for you book? OR author=? OR year=? OR isbn=?\", (title, author, year, isbn))\n",
    "    rows = cur.fetchall()\n",
    "    conn.close()\n",
    "    return rows # creates the rows of books you search in the search engine?\n",
    "def delete(id):\n",
    "    conn = sqlite3.connect(\"books.db\")\n",
    "    cur.execute(\"DELETE FROM book WHERE id=?\",(id,))\n",
    "    conn.commit()\n",
    "    conn.close() # deletes the list from the file \n",
    "def update(id,title,author,year,isbn):\n",
    "    conn = sqlite3.connect(\"books.db\")\n",
    "    cur = conn.cursor()\n",
    "    cur.execute(\"Update your book? =?,author=?,year=?,isbn=? WHERE id=?\",(title,author,year,isbn,id))\n",
    "    conn.commit()\n",
    "    conn.close()  # updates the text file \n",
    "    connect()\n",
    "    "
   ]
  },
  {
   "cell_type": "code",
   "execution_count": null,
   "id": "df363830",
   "metadata": {},
   "outputs": [],
   "source": [
    "import csv\n",
    "import sqlite3\n",
    "\n",
    "\n",
    "connection = sqlite3.connect('book')\n",
    "\n",
    "\n",
    "cursor = connection.cursor()"
   ]
  }
 ],
 "metadata": {
  "kernelspec": {
   "display_name": "Python 3 (ipykernel)",
   "language": "python",
   "name": "python3"
  },
  "language_info": {
   "codemirror_mode": {
    "name": "ipython",
    "version": 3
   },
   "file_extension": ".py",
   "mimetype": "text/x-python",
   "name": "python",
   "nbconvert_exporter": "python",
   "pygments_lexer": "ipython3",
   "version": "3.9.13"
  }
 },
 "nbformat": 4,
 "nbformat_minor": 5
}
